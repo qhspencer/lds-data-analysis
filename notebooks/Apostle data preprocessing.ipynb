{
 "cells": [
  {
   "cell_type": "code",
   "execution_count": 1,
   "id": "34717bb3",
   "metadata": {},
   "outputs": [],
   "source": [
    "import pandas as pd"
   ]
  },
  {
   "cell_type": "code",
   "execution_count": 2,
   "id": "28a052e8",
   "metadata": {},
   "outputs": [],
   "source": [
    "# Data from \n",
    "# https://en.wikipedia.org/wiki/List_of_members_of_the_Quorum_of_the_Twelve_Apostles_(LDS_Church)\n",
    "# Extracted using\n",
    "# https://wikitable2csv.ggor.de/\n",
    "\n",
    "path = '../data/'\n",
    "filedata = {\n",
    "    'original': 'apostles_orig12.csv',\n",
    "    'non-quorum': 'apostles_non_quorum.csv',\n",
    "    '': 'apostles_others.csv'}\n",
    "\n",
    "results = []\n",
    "for filestr, filename in filedata.items():\n",
    "    df_ = pd.read_csv(path+filename, names=['empty', 'key', 'val', 'val2'])\n",
    "    df_['idx'] = (df_['key']=='Name:').cumsum()\n",
    "    df = df_.pivot(columns='key', values='val', index='idx')\n",
    "    df.columns = df.columns.str.strip(':')\n",
    "    for col in ['Born', 'Died']:\n",
    "        df[col] = df[col].str.extract('([0-9]*-[0-9]*-[0-9]*)')\n",
    "    df['Category'] = filestr\n",
    "    results.append(df)"
   ]
  },
  {
   "cell_type": "code",
   "execution_count": 3,
   "id": "e59b7c8b",
   "metadata": {},
   "outputs": [],
   "source": [
    "# collect\n",
    "collected_results = pd.concat(results)[['Name', 'Born', 'Died', 'Positions', 'Notes', 'Category']]\n",
    "collected_results = collected_results.reset_index(drop=True)\n",
    "collected_results['Positions'] = collected_results['Positions'].str.replace(\n",
    "    '[^ ()–]*(\\([0-9]*-[0-9]*-[0-9T]*\\))', '\\\\1', regex=True)"
   ]
  },
  {
   "cell_type": "code",
   "execution_count": 4,
   "id": "f6d6a0df",
   "metadata": {},
   "outputs": [],
   "source": [
    "# The positions are separated (mostly) by line feeds so split them and clean up the results\n",
    "pos_data = collected_results['Positions'].str.replace(\n",
    "    '\\n(', ' (', regex=False).str.split('\\n').explode().str.split(',').to_frame('pos_data')\n",
    "pos_data['position'] = pos_data['pos_data'].str[0].str.strip(' ')\n",
    "pos_data['called_by'] = pos_data['pos_data'].str[1].str.strip(' ')\n",
    "pos_data['dates'] = pos_data['pos_data'].str[2].str.strip(' ')\n",
    "cb_missing = ~pos_data['called_by'].str.startswith('called').astype('bool')\n",
    "pos_data.loc[cb_missing, 'dates'] = pos_data.loc[cb_missing, 'called_by']\n",
    "pos_data.loc[cb_missing, 'called_by'] = ''\n",
    "pos_data['called_by'] = pos_data['called_by'].str.lstrip('called by ')\n",
    "\n",
    "# clean up certain titles with variations\n",
    "cleanup_list = (\n",
    "    ('[0-9].*President of [Tt]he Church.*', 'President of the Church'),\n",
    "    ('.*Presiden.* of .* Seventy', 'Presidency of the Seventy'),\n",
    "    ('^Apostle$', 'LDS Church Apostle'),\n",
    "    (' \\(with.*\\)', ''),\n",
    "    ('First Council of the Seventy', 'First Quorum of the Seventy'), \n",
    "    ('Second Counselor in First Presidency', 'Second Counselor in the First Presidency'))\n",
    "for a, b in cleanup_list:\n",
    "    pos_data['position'] = pos_data['position'].str.replace(a, b, regex=True)\n",
    "\n",
    "pos_data['date_start'] = pos_data['dates'].str.extract('([0-9]{4}-[0-9]{2}-[0-9]{2})')\n",
    "pos_data['date_end'] = pos_data['dates'].str.extract('–.*([0-9]{4}-[0-9]{2}-[0-9]{2})')\n",
    "pos_data_final = pos_data.drop(columns=['pos_data', 'dates'])"
   ]
  },
  {
   "cell_type": "code",
   "execution_count": 5,
   "id": "1cb64201",
   "metadata": {},
   "outputs": [],
   "source": [
    "calling_data = collected_results[['Name']].join(pos_data_final)"
   ]
  },
  {
   "cell_type": "code",
   "execution_count": 6,
   "id": "ffb763da",
   "metadata": {},
   "outputs": [],
   "source": [
    "# Add extra data for the ones who ran church universities\n",
    "other_data = {\n",
    "    'Name': ['Dallin H. Oaks', 'Jeffrey R. Holland', 'Henry B. Eyring', 'David A. Bednar'],\n",
    "    'position': ['[non-GA] President of ' + val for val in ['BYU-Provo', 'BYU-Provo', 'Ricks College', 'BYU-Idaho']],\n",
    "    'called_by': ['Joseph Fielding Smith', 'Spencer W. Kimball', 'Joseph Fielding Smith', 'Gordon B. Hinckley'],\n",
    "    'date_start': ['1971-08-01', '1980-09-01', '1971-08-01', '1997-07-01'],\n",
    "    'date_end': ['1980-08-01', '1989-03-31', '1977-08-01', '2004-10-01']}\n",
    "\n",
    "calling_data_plus = pd.concat([calling_data,\n",
    "                               pd.DataFrame(other_data,\n",
    "                                            index=calling_data[calling_data['Name'].isin(\n",
    "                                                other_data['Name'])]['Name'].drop_duplicates().index)])"
   ]
  },
  {
   "cell_type": "code",
   "execution_count": 7,
   "id": "58c3c3dc",
   "metadata": {},
   "outputs": [],
   "source": [
    "calling_data_plus.sort_index().to_csv(path + 'apostles_calling_data.csv')"
   ]
  },
  {
   "cell_type": "code",
   "execution_count": 8,
   "id": "cada33e9",
   "metadata": {},
   "outputs": [],
   "source": [
    "bio_data = collected_results[['Name', 'Born', 'Died', 'Notes', 'Category']]\n",
    "bio_data.to_csv(path + 'apostles_bio_data.csv')"
   ]
  }
 ],
 "metadata": {
  "kernelspec": {
   "display_name": "Python 3 (ipykernel)",
   "language": "python",
   "name": "python3"
  },
  "language_info": {
   "codemirror_mode": {
    "name": "ipython",
    "version": 3
   },
   "file_extension": ".py",
   "mimetype": "text/x-python",
   "name": "python",
   "nbconvert_exporter": "python",
   "pygments_lexer": "ipython3",
   "version": "3.7.16"
  }
 },
 "nbformat": 4,
 "nbformat_minor": 5
}
